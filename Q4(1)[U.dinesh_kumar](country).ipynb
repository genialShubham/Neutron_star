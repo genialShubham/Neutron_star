{
 "cells": [
  {
   "cell_type": "code",
   "execution_count": 1,
   "id": "61a820b2",
   "metadata": {},
   "outputs": [],
   "source": [
    "import pandas as pd\n",
    "import numpy as np\n",
    "import statsmodels.api as sm"
   ]
  },
  {
   "cell_type": "code",
   "execution_count": 2,
   "id": "fee5e49c",
   "metadata": {},
   "outputs": [],
   "source": [
    "df=pd.read_csv(\"country.csv\")"
   ]
  },
  {
   "cell_type": "code",
   "execution_count": 3,
   "id": "04b2f274",
   "metadata": {},
   "outputs": [
    {
     "data": {
      "text/html": [
       "<div>\n",
       "<style scoped>\n",
       "    .dataframe tbody tr th:only-of-type {\n",
       "        vertical-align: middle;\n",
       "    }\n",
       "\n",
       "    .dataframe tbody tr th {\n",
       "        vertical-align: top;\n",
       "    }\n",
       "\n",
       "    .dataframe thead th {\n",
       "        text-align: right;\n",
       "    }\n",
       "</style>\n",
       "<table border=\"1\" class=\"dataframe\">\n",
       "  <thead>\n",
       "    <tr style=\"text-align: right;\">\n",
       "      <th></th>\n",
       "      <th>Country</th>\n",
       "      <th>Corruption_Index</th>\n",
       "      <th>Gini_Index</th>\n",
       "    </tr>\n",
       "  </thead>\n",
       "  <tbody>\n",
       "    <tr>\n",
       "      <th>0</th>\n",
       "      <td>Hong Kong</td>\n",
       "      <td>77</td>\n",
       "      <td>53.7</td>\n",
       "    </tr>\n",
       "    <tr>\n",
       "      <th>1</th>\n",
       "      <td>South Korea</td>\n",
       "      <td>53</td>\n",
       "      <td>30.2</td>\n",
       "    </tr>\n",
       "    <tr>\n",
       "      <th>2</th>\n",
       "      <td>China</td>\n",
       "      <td>40</td>\n",
       "      <td>46.2</td>\n",
       "    </tr>\n",
       "    <tr>\n",
       "      <th>3</th>\n",
       "      <td>Italy</td>\n",
       "      <td>47</td>\n",
       "      <td>32.7</td>\n",
       "    </tr>\n",
       "    <tr>\n",
       "      <th>4</th>\n",
       "      <td>Mongolia</td>\n",
       "      <td>38</td>\n",
       "      <td>36.5</td>\n",
       "    </tr>\n",
       "  </tbody>\n",
       "</table>\n",
       "</div>"
      ],
      "text/plain": [
       "       Country  Corruption_Index  Gini_Index\n",
       "0    Hong Kong                77        53.7\n",
       "1  South Korea                53        30.2\n",
       "2        China                40        46.2\n",
       "3        Italy                47        32.7\n",
       "4     Mongolia                38        36.5"
      ]
     },
     "execution_count": 3,
     "metadata": {},
     "output_type": "execute_result"
    }
   ],
   "source": [
    "df.head()"
   ]
  },
  {
   "cell_type": "code",
   "execution_count": 4,
   "id": "fcc79eca",
   "metadata": {},
   "outputs": [
    {
     "name": "stdout",
     "output_type": "stream",
     "text": [
      "<class 'pandas.core.frame.DataFrame'>\n",
      "RangeIndex: 20 entries, 0 to 19\n",
      "Data columns (total 3 columns):\n",
      " #   Column            Non-Null Count  Dtype  \n",
      "---  ------            --------------  -----  \n",
      " 0   Country           20 non-null     object \n",
      " 1   Corruption_Index  20 non-null     int64  \n",
      " 2   Gini_Index        20 non-null     float64\n",
      "dtypes: float64(1), int64(1), object(1)\n",
      "memory usage: 608.0+ bytes\n"
     ]
    }
   ],
   "source": [
    "df.info()"
   ]
  },
  {
   "cell_type": "code",
   "execution_count": 5,
   "id": "47f5eaad",
   "metadata": {},
   "outputs": [],
   "source": [
    "X=sm.add_constant(df['Gini_Index'])"
   ]
  },
  {
   "cell_type": "code",
   "execution_count": 6,
   "id": "4e5dbdfe",
   "metadata": {},
   "outputs": [
    {
     "data": {
      "text/html": [
       "<div>\n",
       "<style scoped>\n",
       "    .dataframe tbody tr th:only-of-type {\n",
       "        vertical-align: middle;\n",
       "    }\n",
       "\n",
       "    .dataframe tbody tr th {\n",
       "        vertical-align: top;\n",
       "    }\n",
       "\n",
       "    .dataframe thead th {\n",
       "        text-align: right;\n",
       "    }\n",
       "</style>\n",
       "<table border=\"1\" class=\"dataframe\">\n",
       "  <thead>\n",
       "    <tr style=\"text-align: right;\">\n",
       "      <th></th>\n",
       "      <th>const</th>\n",
       "      <th>Gini_Index</th>\n",
       "    </tr>\n",
       "  </thead>\n",
       "  <tbody>\n",
       "    <tr>\n",
       "      <th>0</th>\n",
       "      <td>1.0</td>\n",
       "      <td>53.7</td>\n",
       "    </tr>\n",
       "    <tr>\n",
       "      <th>1</th>\n",
       "      <td>1.0</td>\n",
       "      <td>30.2</td>\n",
       "    </tr>\n",
       "    <tr>\n",
       "      <th>2</th>\n",
       "      <td>1.0</td>\n",
       "      <td>46.2</td>\n",
       "    </tr>\n",
       "    <tr>\n",
       "      <th>3</th>\n",
       "      <td>1.0</td>\n",
       "      <td>32.7</td>\n",
       "    </tr>\n",
       "    <tr>\n",
       "      <th>4</th>\n",
       "      <td>1.0</td>\n",
       "      <td>36.5</td>\n",
       "    </tr>\n",
       "  </tbody>\n",
       "</table>\n",
       "</div>"
      ],
      "text/plain": [
       "   const  Gini_Index\n",
       "0    1.0        53.7\n",
       "1    1.0        30.2\n",
       "2    1.0        46.2\n",
       "3    1.0        32.7\n",
       "4    1.0        36.5"
      ]
     },
     "execution_count": 6,
     "metadata": {},
     "output_type": "execute_result"
    }
   ],
   "source": [
    "X.head(5)"
   ]
  },
  {
   "cell_type": "code",
   "execution_count": 7,
   "id": "c8042977",
   "metadata": {},
   "outputs": [],
   "source": [
    "Y=df[\"Corruption_Index\"]"
   ]
  },
  {
   "cell_type": "code",
   "execution_count": 8,
   "id": "b377b063",
   "metadata": {},
   "outputs": [],
   "source": [
    "import matplotlib.pyplot as plt\n",
    "import seaborn as sn\n",
    "%matplotlib inline"
   ]
  },
  {
   "cell_type": "code",
   "execution_count": 9,
   "id": "7fb9942f",
   "metadata": {
    "scrolled": false
   },
   "outputs": [
    {
     "data": {
      "text/plain": [
       "<matplotlib.collections.PathCollection at 0x1b88448ece0>"
      ]
     },
     "execution_count": 9,
     "metadata": {},
     "output_type": "execute_result"
    },
    {
     "data": {
      "image/png": "[encoded data removed]",
      "text/plain": [
       "<Figure size 640x480 with 1 Axes>"
      ]
     },
     "metadata": {},
     "output_type": "display_data"
    }
   ],
   "source": [
    "plt.scatter(x='Corruption_Index',y=\"Gini_Index\",data=df)"
   ]
  },
  {
   "cell_type": "code",
   "execution_count": 10,
   "id": "fc64682f",
   "metadata": {},
   "outputs": [],
   "source": [
    "from sklearn.model_selection import train_test_split"
   ]
  },
  {
   "cell_type": "code",
   "execution_count": 11,
   "id": "fd150cc2",
   "metadata": {},
   "outputs": [],
   "source": [
    "train_X, test_X, train_y, test_y = train_test_split( X ,\n",
    "                                                     Y,\n",
    "                                                    train_size = 0.8,\n",
    "                                                    random_state = 100 )"
   ]
  },
  {
   "cell_type": "code",
   "execution_count": 12,
   "id": "4723d065",
   "metadata": {},
   "outputs": [],
   "source": [
    "df_lm=sm.OLS(train_y,train_X).fit()"
   ]
  },
  {
   "cell_type": "code",
   "execution_count": 13,
   "id": "2d901e56",
   "metadata": {},
   "outputs": [
    {
     "name": "stderr",
     "output_type": "stream",
     "text": [
      "C:\\Users\\Shubham\\AppData\\Local\\Programs\\Python\\Python310\\lib\\site-packages\\scipy\\stats\\_stats_py.py:1769: UserWarning: kurtosistest only valid for n>=20 ... continuing anyway, n=16\n",
      "  warnings.warn(\"kurtosistest only valid for n>=20 ... continuing \"\n"
     ]
    },
    {
     "data": {
      "text/html": [
       "<table class=\"simpletable\">\n",
       "<tr>\n",
       "        <td>Model:</td>               <td>OLS</td>         <td>Adj. R-squared:</td>     <td>0.070</td> \n",
       "</tr>\n",
       "<tr>\n",
       "  <td>Dependent Variable:</td> <td>Corruption_Index</td>        <td>AIC:</td>         <td>140.5223</td>\n",
       "</tr>\n",
       "<tr>\n",
       "         <td>Date:</td>        <td>2023-08-16 11:27</td>        <td>BIC:</td>         <td>142.0674</td>\n",
       "</tr>\n",
       "<tr>\n",
       "   <td>No. Observations:</td>         <td>16</td>          <td>Log-Likelihood:</td>    <td>-68.261</td>\n",
       "</tr>\n",
       "<tr>\n",
       "       <td>Df Model:</td>              <td>1</td>           <td>F-statistic:</td>       <td>2.126</td> \n",
       "</tr>\n",
       "<tr>\n",
       "     <td>Df Residuals:</td>           <td>14</td>        <td>Prob (F-statistic):</td>   <td>0.167</td> \n",
       "</tr>\n",
       "<tr>\n",
       "      <td>R-squared:</td>            <td>0.132</td>            <td>Scale:</td>         <td>339.78</td> \n",
       "</tr>\n",
       "</table>\n",
       "<table class=\"simpletable\">\n",
       "<tr>\n",
       "       <td></td>       <th>Coef.</th>  <th>Std.Err.</th>    <th>t</th>     <th>P>|t|</th> <th>[0.025</th>   <th>0.975]</th> \n",
       "</tr>\n",
       "<tr>\n",
       "  <th>const</th>      <td>95.2224</td>  <td>21.6919</td> <td>4.3898</td>  <td>0.0006</td> <td>48.6980</td> <td>141.7468</td>\n",
       "</tr>\n",
       "<tr>\n",
       "  <th>Gini_Index</th> <td>-0.8976</td>  <td>0.6155</td>  <td>-1.4582</td> <td>0.1668</td> <td>-2.2177</td>  <td>0.4226</td> \n",
       "</tr>\n",
       "</table>\n",
       "<table class=\"simpletable\">\n",
       "<tr>\n",
       "     <td>Omnibus:</td>     <td>1.936</td>  <td>Durbin-Watson:</td>   <td>2.195</td>\n",
       "</tr>\n",
       "<tr>\n",
       "  <td>Prob(Omnibus):</td>  <td>0.380</td> <td>Jarque-Bera (JB):</td> <td>0.999</td>\n",
       "</tr>\n",
       "<tr>\n",
       "       <td>Skew:</td>     <td>-0.169</td>     <td>Prob(JB):</td>     <td>0.607</td>\n",
       "</tr>\n",
       "<tr>\n",
       "     <td>Kurtosis:</td>    <td>1.823</td>  <td>Condition No.:</td>    <td>166</td> \n",
       "</tr>\n",
       "</table>"
      ],
      "text/plain": [
       "<class 'statsmodels.iolib.summary2.Summary'>\n",
       "\"\"\"\n",
       "                 Results: Ordinary least squares\n",
       "=================================================================\n",
       "Model:              OLS              Adj. R-squared:     0.070   \n",
       "Dependent Variable: Corruption_Index AIC:                140.5223\n",
       "Date:               2023-08-16 11:27 BIC:                142.0674\n",
       "No. Observations:   16               Log-Likelihood:     -68.261 \n",
       "Df Model:           1                F-statistic:        2.126   \n",
       "Df Residuals:       14               Prob (F-statistic): 0.167   \n",
       "R-squared:          0.132            Scale:              339.78  \n",
       "------------------------------------------------------------------\n",
       "              Coef.   Std.Err.     t     P>|t|    [0.025   0.975] \n",
       "------------------------------------------------------------------\n",
       "const        95.2224   21.6919   4.3898  0.0006  48.6980  141.7468\n",
       "Gini_Index   -0.8976    0.6155  -1.4582  0.1668  -2.2177    0.4226\n",
       "-----------------------------------------------------------------\n",
       "Omnibus:               1.936        Durbin-Watson:          2.195\n",
       "Prob(Omnibus):         0.380        Jarque-Bera (JB):       0.999\n",
       "Skew:                  -0.169       Prob(JB):               0.607\n",
       "Kurtosis:              1.823        Condition No.:          166  \n",
       "=================================================================\n",
       "\n",
       "\"\"\""
      ]
     },
     "execution_count": 13,
     "metadata": {},
     "output_type": "execute_result"
    }
   ],
   "source": [
    "df_lm.summary2()"
   ]
  },
  {
   "cell_type": "code",
   "execution_count": 14,
   "id": "97d16291",
   "metadata": {},
   "outputs": [
    {
     "name": "stdout",
     "output_type": "stream",
     "text": [
      "                            OLS Regression Results                            \n",
      "==============================================================================\n",
      "Dep. Variable:       Corruption_Index   R-squared:                       0.132\n",
      "Model:                            OLS   Adj. R-squared:                  0.070\n",
      "Method:                 Least Squares   F-statistic:                     2.126\n",
      "Date:                Wed, 16 Aug 2023   Prob (F-statistic):              0.167\n",
      "Time:                        11:27:41   Log-Likelihood:                -68.261\n",
      "No. Observations:                  16   AIC:                             140.5\n",
      "Df Residuals:                      14   BIC:                             142.1\n",
      "Df Model:                           1                                         \n",
      "Covariance Type:            nonrobust                                         \n",
      "==============================================================================\n",
      "                 coef    std err          t      P>|t|       [0.05       0.95]\n",
      "------------------------------------------------------------------------------\n",
      "const         95.2224     21.692      4.390      0.001      57.016     133.428\n",
      "Gini_Index    -0.8976      0.616     -1.458      0.167      -1.982       0.187\n",
      "==============================================================================\n",
      "Omnibus:                        1.936   Durbin-Watson:                   2.195\n",
      "Prob(Omnibus):                  0.380   Jarque-Bera (JB):                0.999\n",
      "Skew:                          -0.169   Prob(JB):                        0.607\n",
      "Kurtosis:                       1.823   Cond. No.                         166.\n",
      "==============================================================================\n",
      "\n",
      "Notes:\n",
      "[1] Standard Errors assume that the covariance matrix of the errors is correctly specified.\n"
     ]
    },
    {
     "name": "stderr",
     "output_type": "stream",
     "text": [
      "C:\\Users\\Shubham\\AppData\\Local\\Programs\\Python\\Python310\\lib\\site-packages\\scipy\\stats\\_stats_py.py:1769: UserWarning: kurtosistest only valid for n>=20 ... continuing anyway, n=16\n",
      "  warnings.warn(\"kurtosistest only valid for n>=20 ... continuing \"\n"
     ]
    }
   ],
   "source": [
    "print(df_lm.summary(alpha=0.1))"
   ]
  },
  {
   "cell_type": "code",
   "execution_count": 15,
   "id": "acf36cf5",
   "metadata": {},
   "outputs": [
    {
     "name": "stdout",
     "output_type": "stream",
     "text": [
      "                    0           1\n",
      "const       48.697986  141.746773\n",
      "Gini_Index  -2.217707    0.422578\n"
     ]
    }
   ],
   "source": [
    "conf_intervals = df_lm.conf_int(alpha=0.05)  # For 95% confidence\n",
    "print(conf_intervals)"
   ]
  },
  {
   "cell_type": "code",
   "execution_count": 16,
   "id": "0423e249",
   "metadata": {},
   "outputs": [
    {
     "name": "stdout",
     "output_type": "stream",
     "text": [
      "const         95.222379\n",
      "Gini_Index    -0.897565\n",
      "dtype: float64\n"
     ]
    }
   ],
   "source": [
    "print(df_lm.params)"
   ]
  },
  {
   "cell_type": "code",
   "execution_count": 17,
   "id": "f7d29242",
   "metadata": {},
   "outputs": [
    {
     "data": {
      "text/plain": [
       "<Figure size 800x600 with 0 Axes>"
      ]
     },
     "metadata": {},
     "output_type": "display_data"
    },
    {
     "data": {
      "image/png": "[encoded data removed]",
      "text/plain": [
       "<Figure size 640x480 with 1 Axes>"
      ]
     },
     "metadata": {},
     "output_type": "display_data"
    }
   ],
   "source": [
    "df_resid = df_lm.resid\n",
    "probplot = sm.ProbPlot( df_resid )\n",
    "plt.figure( figsize = (8, 6) )\n",
    "probplot.ppplot( line='45' )\n",
    "plt.title( \"Fig 4.1 - Normal P-P Plot of Regression Standardized Residuals\" )\n",
    "plt.show()"
   ]
  },
  {
   "cell_type": "code",
   "execution_count": 18,
   "id": "6941181d",
   "metadata": {},
   "outputs": [],
   "source": [
    "def get_standardized_values( vals ):    \n",
    "    return (vals - vals.mean())/vals.std()"
   ]
  },
  {
   "cell_type": "code",
   "execution_count": 19,
   "id": "dd8aeb73",
   "metadata": {},
   "outputs": [
    {
     "data": {
      "image/png": "[encoded data removed]",
      "text/plain": [
       "<Figure size 640x480 with 1 Axes>"
      ]
     },
     "metadata": {},
     "output_type": "display_data"
    }
   ],
   "source": [
    "plt.scatter( get_standardized_values( df_lm.fittedvalues ), \n",
    "            get_standardized_values( df_resid ) )\n",
    "plt.title( \"Fig 4.2 - Residual Plot:  Corruption index\" );\n",
    "plt.xlabel( \"Standardized predicted values\")\n",
    "plt.ylabel( \"Standardized Residuals\");"
   ]
  },
  {
   "cell_type": "code",
   "execution_count": 20,
   "id": "2cab6b2d",
   "metadata": {},
   "outputs": [],
   "source": [
    "from scipy.stats import zscore"
   ]
  },
  {
   "cell_type": "code",
   "execution_count": 21,
   "id": "298bf280",
   "metadata": {},
   "outputs": [],
   "source": [
    "df['z_score_Corruption'] = zscore(df.Corruption_Index)"
   ]
  },
  {
   "cell_type": "code",
   "execution_count": 22,
   "id": "0c00ae71",
   "metadata": {},
   "outputs": [
    {
     "data": {
      "text/html": [
       "<div>\n",
       "<style scoped>\n",
       "    .dataframe tbody tr th:only-of-type {\n",
       "        vertical-align: middle;\n",
       "    }\n",
       "\n",
       "    .dataframe tbody tr th {\n",
       "        vertical-align: top;\n",
       "    }\n",
       "\n",
       "    .dataframe thead th {\n",
       "        text-align: right;\n",
       "    }\n",
       "</style>\n",
       "<table border=\"1\" class=\"dataframe\">\n",
       "  <thead>\n",
       "    <tr style=\"text-align: right;\">\n",
       "      <th></th>\n",
       "      <th>Country</th>\n",
       "      <th>Corruption_Index</th>\n",
       "      <th>Gini_Index</th>\n",
       "      <th>z_score_Corruption</th>\n",
       "    </tr>\n",
       "  </thead>\n",
       "  <tbody>\n",
       "  </tbody>\n",
       "</table>\n",
       "</div>"
      ],
      "text/plain": [
       "Empty DataFrame\n",
       "Columns: [Country, Corruption_Index, Gini_Index, z_score_Corruption]\n",
       "Index: []"
      ]
     },
     "execution_count": 22,
     "metadata": {},
     "output_type": "execute_result"
    }
   ],
   "source": [
    "df[ (df.z_score_Corruption > 3.0) | (df.z_score_Corruption < -3.0) ]"
   ]
  },
  {
   "cell_type": "code",
   "execution_count": 23,
   "id": "0413e90b",
   "metadata": {},
   "outputs": [
    {
     "data": {
      "image/png": "[encoded data removed]",
      "text/plain": [
       "<Figure size 640x480 with 1 Axes>"
      ]
     },
     "metadata": {},
     "output_type": "display_data"
    }
   ],
   "source": [
    "\n",
    "df_influence = df_lm.get_influence()\n",
    "(c, p) = df_influence.cooks_distance\n",
    "\n",
    "plt.stem( np.arange( len( train_X) ), \n",
    "         np.round( c, 3 ), \n",
    "         markerfmt=\",\" );\n",
    "plt.title( \"Figure 4.3 - Cooks distance for all observations in Corruption dataset dataset\" );\n",
    "plt.xlabel( \"Row index\")\n",
    "plt.ylabel( \"Cooks Distance\");"
   ]
  },
  {
   "cell_type": "code",
   "execution_count": 24,
   "id": "2cd4a0ef",
   "metadata": {},
   "outputs": [],
   "source": [
    "#In cook's distance if the value is greater than 1 for some data point, that data point is an outlier and we have to take care of it. "
   ]
  },
  {
   "cell_type": "code",
   "execution_count": 25,
   "id": "564f665d",
   "metadata": {},
   "outputs": [
    {
     "data": {
      "text/html": [
       "<div>\n",
       "<style scoped>\n",
       "    .dataframe tbody tr th:only-of-type {\n",
       "        vertical-align: middle;\n",
       "    }\n",
       "\n",
       "    .dataframe tbody tr th {\n",
       "        vertical-align: top;\n",
       "    }\n",
       "\n",
       "    .dataframe thead th {\n",
       "        text-align: right;\n",
       "    }\n",
       "</style>\n",
       "<table border=\"1\" class=\"dataframe\">\n",
       "  <thead>\n",
       "    <tr style=\"text-align: right;\">\n",
       "      <th></th>\n",
       "      <th>Country</th>\n",
       "      <th>Corruption_Index</th>\n",
       "      <th>Gini_Index</th>\n",
       "      <th>z_score_Corruption</th>\n",
       "    </tr>\n",
       "  </thead>\n",
       "  <tbody>\n",
       "    <tr>\n",
       "      <th>0</th>\n",
       "      <td>Hong Kong</td>\n",
       "      <td>77</td>\n",
       "      <td>53.7</td>\n",
       "      <td>0.761383</td>\n",
       "    </tr>\n",
       "    <tr>\n",
       "      <th>1</th>\n",
       "      <td>South Korea</td>\n",
       "      <td>53</td>\n",
       "      <td>30.2</td>\n",
       "      <td>-0.432943</td>\n",
       "    </tr>\n",
       "    <tr>\n",
       "      <th>2</th>\n",
       "      <td>China</td>\n",
       "      <td>40</td>\n",
       "      <td>46.2</td>\n",
       "      <td>-1.079869</td>\n",
       "    </tr>\n",
       "    <tr>\n",
       "      <th>3</th>\n",
       "      <td>Italy</td>\n",
       "      <td>47</td>\n",
       "      <td>32.7</td>\n",
       "      <td>-0.731524</td>\n",
       "    </tr>\n",
       "    <tr>\n",
       "      <th>4</th>\n",
       "      <td>Mongolia</td>\n",
       "      <td>38</td>\n",
       "      <td>36.5</td>\n",
       "      <td>-1.179396</td>\n",
       "    </tr>\n",
       "    <tr>\n",
       "      <th>5</th>\n",
       "      <td>Austria</td>\n",
       "      <td>75</td>\n",
       "      <td>27.6</td>\n",
       "      <td>0.661855</td>\n",
       "    </tr>\n",
       "    <tr>\n",
       "      <th>6</th>\n",
       "      <td>Norway</td>\n",
       "      <td>85</td>\n",
       "      <td>23.5</td>\n",
       "      <td>1.159491</td>\n",
       "    </tr>\n",
       "    <tr>\n",
       "      <th>7</th>\n",
       "      <td>UK</td>\n",
       "      <td>81</td>\n",
       "      <td>31.6</td>\n",
       "      <td>0.960437</td>\n",
       "    </tr>\n",
       "    <tr>\n",
       "      <th>8</th>\n",
       "      <td>Canada</td>\n",
       "      <td>82</td>\n",
       "      <td>33.7</td>\n",
       "      <td>1.010200</td>\n",
       "    </tr>\n",
       "    <tr>\n",
       "      <th>9</th>\n",
       "      <td>Germany</td>\n",
       "      <td>81</td>\n",
       "      <td>30.7</td>\n",
       "      <td>0.960437</td>\n",
       "    </tr>\n",
       "    <tr>\n",
       "      <th>10</th>\n",
       "      <td>Sweden</td>\n",
       "      <td>88</td>\n",
       "      <td>25.4</td>\n",
       "      <td>1.308782</td>\n",
       "    </tr>\n",
       "    <tr>\n",
       "      <th>11</th>\n",
       "      <td>Denmark</td>\n",
       "      <td>90</td>\n",
       "      <td>27.5</td>\n",
       "      <td>1.408309</td>\n",
       "    </tr>\n",
       "    <tr>\n",
       "      <th>12</th>\n",
       "      <td>France</td>\n",
       "      <td>69</td>\n",
       "      <td>30.1</td>\n",
       "      <td>0.363274</td>\n",
       "    </tr>\n",
       "    <tr>\n",
       "      <th>13</th>\n",
       "      <td>United States</td>\n",
       "      <td>74</td>\n",
       "      <td>40.8</td>\n",
       "      <td>0.612092</td>\n",
       "    </tr>\n",
       "    <tr>\n",
       "      <th>14</th>\n",
       "      <td>Russia</td>\n",
       "      <td>29</td>\n",
       "      <td>40.1</td>\n",
       "      <td>-1.627269</td>\n",
       "    </tr>\n",
       "    <tr>\n",
       "      <th>15</th>\n",
       "      <td>Portugal</td>\n",
       "      <td>62</td>\n",
       "      <td>34.2</td>\n",
       "      <td>0.014929</td>\n",
       "    </tr>\n",
       "    <tr>\n",
       "      <th>16</th>\n",
       "      <td>Romania</td>\n",
       "      <td>48</td>\n",
       "      <td>34.0</td>\n",
       "      <td>-0.681761</td>\n",
       "    </tr>\n",
       "    <tr>\n",
       "      <th>17</th>\n",
       "      <td>Argentina</td>\n",
       "      <td>36</td>\n",
       "      <td>42.7</td>\n",
       "      <td>-1.278924</td>\n",
       "    </tr>\n",
       "    <tr>\n",
       "      <th>18</th>\n",
       "      <td>Greece</td>\n",
       "      <td>44</td>\n",
       "      <td>34.2</td>\n",
       "      <td>-0.880815</td>\n",
       "    </tr>\n",
       "    <tr>\n",
       "      <th>19</th>\n",
       "      <td>Thailand</td>\n",
       "      <td>35</td>\n",
       "      <td>39.4</td>\n",
       "      <td>-1.328687</td>\n",
       "    </tr>\n",
       "  </tbody>\n",
       "</table>\n",
       "</div>"
      ],
      "text/plain": [
       "          Country  Corruption_Index  Gini_Index  z_score_Corruption\n",
       "0       Hong Kong                77        53.7            0.761383\n",
       "1     South Korea                53        30.2           -0.432943\n",
       "2           China                40        46.2           -1.079869\n",
       "3           Italy                47        32.7           -0.731524\n",
       "4        Mongolia                38        36.5           -1.179396\n",
       "5         Austria                75        27.6            0.661855\n",
       "6          Norway                85        23.5            1.159491\n",
       "7              UK                81        31.6            0.960437\n",
       "8          Canada                82        33.7            1.010200\n",
       "9         Germany                81        30.7            0.960437\n",
       "10         Sweden                88        25.4            1.308782\n",
       "11        Denmark                90        27.5            1.408309\n",
       "12         France                69        30.1            0.363274\n",
       "13  United States                74        40.8            0.612092\n",
       "14        Russia                 29        40.1           -1.627269\n",
       "15       Portugal                62        34.2            0.014929\n",
       "16        Romania                48        34.0           -0.681761\n",
       "17      Argentina                36        42.7           -1.278924\n",
       "18         Greece                44        34.2           -0.880815\n",
       "19      Thailand                 35        39.4           -1.328687"
      ]
     },
     "execution_count": 25,
     "metadata": {},
     "output_type": "execute_result"
    }
   ],
   "source": [
    "df"
   ]
  },
  {
   "cell_type": "code",
   "execution_count": 26,
   "id": "f090c961",
   "metadata": {},
   "outputs": [
    {
     "data": {
      "text/html": [
       "<div>\n",
       "<style scoped>\n",
       "    .dataframe tbody tr th:only-of-type {\n",
       "        vertical-align: middle;\n",
       "    }\n",
       "\n",
       "    .dataframe tbody tr th {\n",
       "        vertical-align: top;\n",
       "    }\n",
       "\n",
       "    .dataframe thead th {\n",
       "        text-align: right;\n",
       "    }\n",
       "</style>\n",
       "<table border=\"1\" class=\"dataframe\">\n",
       "  <thead>\n",
       "    <tr style=\"text-align: right;\">\n",
       "      <th></th>\n",
       "      <th>Country</th>\n",
       "      <th>Corruption_Index</th>\n",
       "      <th>Gini_Index</th>\n",
       "      <th>z_score_Corruption</th>\n",
       "    </tr>\n",
       "  </thead>\n",
       "  <tbody>\n",
       "    <tr>\n",
       "      <th>11</th>\n",
       "      <td>Denmark</td>\n",
       "      <td>90</td>\n",
       "      <td>27.5</td>\n",
       "      <td>1.408309</td>\n",
       "    </tr>\n",
       "  </tbody>\n",
       "</table>\n",
       "</div>"
      ],
      "text/plain": [
       "    Country  Corruption_Index  Gini_Index  z_score_Corruption\n",
       "11  Denmark                90        27.5            1.408309"
      ]
     },
     "execution_count": 26,
     "metadata": {},
     "output_type": "execute_result"
    }
   ],
   "source": [
    "df[df.index.isin([11])]"
   ]
  },
  {
   "cell_type": "code",
   "execution_count": 27,
   "id": "31a8f4d6",
   "metadata": {},
   "outputs": [
    {
     "data": {
      "image/png": "[encoded data removed]",
      "text/plain": [
       "<Figure size 800x600 with 1 Axes>"
      ]
     },
     "metadata": {},
     "output_type": "display_data"
    }
   ],
   "source": [
    "from statsmodels.graphics.regressionplots import influence_plot\n",
    "\n",
    "fig, ax = plt.subplots( figsize=(8,6) )\n",
    "influence_plot( df_lm, ax = ax )\n",
    "plt.title( \"Figure 4.4 - Leverage Value Vs Residuals\")\n",
    "plt.show();"
   ]
  },
  {
   "cell_type": "code",
   "execution_count": 28,
   "id": "7d2487cb",
   "metadata": {},
   "outputs": [
    {
     "data": {
      "text/html": [
       "<div>\n",
       "<style scoped>\n",
       "    .dataframe tbody tr th:only-of-type {\n",
       "        vertical-align: middle;\n",
       "    }\n",
       "\n",
       "    .dataframe tbody tr th {\n",
       "        vertical-align: top;\n",
       "    }\n",
       "\n",
       "    .dataframe thead th {\n",
       "        text-align: right;\n",
       "    }\n",
       "</style>\n",
       "<table border=\"1\" class=\"dataframe\">\n",
       "  <thead>\n",
       "    <tr style=\"text-align: right;\">\n",
       "      <th></th>\n",
       "      <th>Country</th>\n",
       "      <th>Corruption_Index</th>\n",
       "      <th>Gini_Index</th>\n",
       "      <th>z_score_Corruption</th>\n",
       "    </tr>\n",
       "  </thead>\n",
       "  <tbody>\n",
       "    <tr>\n",
       "      <th>0</th>\n",
       "      <td>Hong Kong</td>\n",
       "      <td>77</td>\n",
       "      <td>53.7</td>\n",
       "      <td>0.761383</td>\n",
       "    </tr>\n",
       "  </tbody>\n",
       "</table>\n",
       "</div>"
      ],
      "text/plain": [
       "     Country  Corruption_Index  Gini_Index  z_score_Corruption\n",
       "0  Hong Kong                77        53.7            0.761383"
      ]
     },
     "execution_count": 28,
     "metadata": {},
     "output_type": "execute_result"
    }
   ],
   "source": [
    "df[df.index.isin([0])]"
   ]
  },
  {
   "cell_type": "code",
   "execution_count": 29,
   "id": "4073ddcc",
   "metadata": {},
   "outputs": [],
   "source": [
    "pred_y = df_lm.predict( test_X )"
   ]
  },
  {
   "cell_type": "code",
   "execution_count": 30,
   "id": "c750eb22",
   "metadata": {},
   "outputs": [
    {
     "data": {
      "text/plain": [
       "0.09564052280706992"
      ]
     },
     "execution_count": 30,
     "metadata": {},
     "output_type": "execute_result"
    }
   ],
   "source": [
    "from sklearn.metrics import r2_score, mean_squared_error\n",
    "np.abs(r2_score(test_y, pred_y))"
   ]
  },
  {
   "cell_type": "code",
   "execution_count": 31,
   "id": "4b5bae6f",
   "metadata": {},
   "outputs": [
    {
     "data": {
      "text/plain": [
       "21.53262175080755"
      ]
     },
     "execution_count": 31,
     "metadata": {},
     "output_type": "execute_result"
    }
   ],
   "source": [
    "import numpy\n",
    "np.sqrt(mean_squared_error(test_y, pred_y))"
   ]
  },
  {
   "cell_type": "code",
   "execution_count": 32,
   "id": "5d91ad0d",
   "metadata": {},
   "outputs": [],
   "source": [
    "from statsmodels.sandbox.regression.predstd import wls_prediction_std\n",
    "\n",
    "# Predict the y values\n",
    "pred_y = df_lm.predict( test_X )\n",
    "\n",
    "# Predict the low and high interval values for y\n",
    "_, pred_y_low, pred_y_high = wls_prediction_std( df_lm, \n",
    "                   test_X,\n",
    "                   alpha = 0.1)\n",
    "\n",
    "# Store all the values in a dataframe\n",
    "pred_y_df = pd.DataFrame( { 'Gini_Index': test_X['Gini_Index'],\n",
    "                            'pred_y': pred_y,\n",
    "                            'pred_y_left': pred_y_low,\n",
    "                            'pred_y_right': pred_y_high } )"
   ]
  },
  {
   "cell_type": "code",
   "execution_count": 33,
   "id": "efc3a561",
   "metadata": {},
   "outputs": [
    {
     "data": {
      "text/html": [
       "<div>\n",
       "<style scoped>\n",
       "    .dataframe tbody tr th:only-of-type {\n",
       "        vertical-align: middle;\n",
       "    }\n",
       "\n",
       "    .dataframe tbody tr th {\n",
       "        vertical-align: top;\n",
       "    }\n",
       "\n",
       "    .dataframe thead th {\n",
       "        text-align: right;\n",
       "    }\n",
       "</style>\n",
       "<table border=\"1\" class=\"dataframe\">\n",
       "  <thead>\n",
       "    <tr style=\"text-align: right;\">\n",
       "      <th></th>\n",
       "      <th>Gini_Index</th>\n",
       "      <th>pred_y</th>\n",
       "      <th>pred_y_left</th>\n",
       "      <th>pred_y_right</th>\n",
       "    </tr>\n",
       "  </thead>\n",
       "  <tbody>\n",
       "    <tr>\n",
       "      <th>17</th>\n",
       "      <td>42.7</td>\n",
       "      <td>56.896373</td>\n",
       "      <td>22.252720</td>\n",
       "      <td>91.540026</td>\n",
       "    </tr>\n",
       "    <tr>\n",
       "      <th>19</th>\n",
       "      <td>39.4</td>\n",
       "      <td>59.858336</td>\n",
       "      <td>25.963055</td>\n",
       "      <td>93.753617</td>\n",
       "    </tr>\n",
       "    <tr>\n",
       "      <th>11</th>\n",
       "      <td>27.5</td>\n",
       "      <td>70.539354</td>\n",
       "      <td>36.239028</td>\n",
       "      <td>104.839680</td>\n",
       "    </tr>\n",
       "    <tr>\n",
       "      <th>18</th>\n",
       "      <td>34.2</td>\n",
       "      <td>64.525672</td>\n",
       "      <td>31.059073</td>\n",
       "      <td>97.992270</td>\n",
       "    </tr>\n",
       "  </tbody>\n",
       "</table>\n",
       "</div>"
      ],
      "text/plain": [
       "    Gini_Index     pred_y  pred_y_left  pred_y_right\n",
       "17        42.7  56.896373    22.252720     91.540026\n",
       "19        39.4  59.858336    25.963055     93.753617\n",
       "11        27.5  70.539354    36.239028    104.839680\n",
       "18        34.2  64.525672    31.059073     97.992270"
      ]
     },
     "execution_count": 33,
     "metadata": {},
     "output_type": "execute_result"
    }
   ],
   "source": [
    "pred_y_df[0:10]"
   ]
  },
  {
   "cell_type": "code",
   "execution_count": null,
   "id": "f1cd92d8",
   "metadata": {},
   "outputs": [],
   "source": []
  }
 ],
 "metadata": {
  "kernelspec": {
   "display_name": "Python 3 (ipykernel)",
   "language": "python",
   "name": "python3"
  },
  "language_info": {
   "codemirror_mode": {
    "name": "ipython",
    "version": 3
   },
   "file_extension": ".py",
   "mimetype": "text/x-python",
   "name": "python",
   "nbconvert_exporter": "python",
   "pygments_lexer": "ipython3",
   "version": "3.10.6"
  }
 },
 "nbformat": 4,
 "nbformat_minor": 5
}
